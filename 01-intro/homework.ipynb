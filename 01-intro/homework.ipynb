{
 "cells": [
  {
   "cell_type": "code",
   "execution_count": 1,
   "id": "1bface7b-4d23-41fb-9eea-18eca7f869c8",
   "metadata": {},
   "outputs": [],
   "source": [
    "import openai"
   ]
  },
  {
   "cell_type": "code",
   "execution_count": 2,
   "id": "0b5626ce-6709-42da-8c2c-2bc0ff6aa0bb",
   "metadata": {},
   "outputs": [],
   "source": [
    "from openai import OpenAI"
   ]
  },
  {
   "cell_type": "code",
   "execution_count": 3,
   "id": "6b3e977a-57f0-486c-b242-2d2ec87f792e",
   "metadata": {},
   "outputs": [],
   "source": [
    "client = OpenAI(api_key = \"\")"
   ]
  },
  {
   "cell_type": "code",
   "execution_count": 6,
   "id": "3acd8583-4c10-4a08-b0ff-a6d9d614f310",
   "metadata": {},
   "outputs": [],
   "source": [
    "import os"
   ]
  },
  {
   "cell_type": "code",
   "execution_count": 9,
   "id": "f371ca21-a81f-4724-8749-70c2396ad647",
   "metadata": {},
   "outputs": [],
   "source": [
    "response = client.chat.completions.create(\n",
    "    model = \"gpt-4o\",\n",
    "    messages = [{\"role\": \"user\", \"content\": \"Is it too late to join the course?\"}]   # \n",
    ")"
   ]
  },
  {
   "cell_type": "code",
   "execution_count": 12,
   "id": "387af79c-305b-46e3-8bbd-ae8ebe5b291f",
   "metadata": {},
   "outputs": [
    {
     "data": {
      "text/plain": [
       "\"It depends on several factors: \\n\\n1. **Course Policies:** Some courses have specific enrollment periods and deadlines after which registration is closed. Check the course's official website or contact the administration to know the specific deadlines.\\n\\n2. **Course Progress:** Even if the registration deadline has not passed, entering a course that is already well underway might make it challenging to catch up with missed material and assignments. Assess how much of the course has already been completed and whether you can realistically manage to get up to speed.\\n\\n3. **Instructor/Administrator Flexibility:** Some instructors or course administrators might allow late enrollment on a case-by-case basis. It can be helpful to reach out directly to express your interest and inquire about the possibility of joining late.\\n\\n4. **Nature of the Course:** Online courses with flexible start dates and self-paced learning might allow late enrollment more easily than traditional in-person courses with fixed schedules.\\n\\nIf you find it’s too late to join this particular session, you might have the option to enroll in the next one or look for similar courses that might still be open.\\n\\nContact the course instructor or administrative office for the most accurate and specific guidance regarding your situation.\""
      ]
     },
     "execution_count": 12,
     "metadata": {},
     "output_type": "execute_result"
    }
   ],
   "source": [
    "response.choices[0].message.content"
   ]
  },
  {
   "cell_type": "code",
   "execution_count": null,
   "id": "9a8081f6-8e54-4855-ac91-dc0baa56d4eb",
   "metadata": {},
   "outputs": [],
   "source": []
  }
 ],
 "metadata": {
  "kernelspec": {
   "display_name": "Python 3 (ipykernel)",
   "language": "python",
   "name": "python3"
  },
  "language_info": {
   "codemirror_mode": {
    "name": "ipython",
    "version": 3
   },
   "file_extension": ".py",
   "mimetype": "text/x-python",
   "name": "python",
   "nbconvert_exporter": "python",
   "pygments_lexer": "ipython3",
   "version": "3.10.13"
  }
 },
 "nbformat": 4,
 "nbformat_minor": 5
}
